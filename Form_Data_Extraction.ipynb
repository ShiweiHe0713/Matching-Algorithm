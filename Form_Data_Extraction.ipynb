{
  "nbformat": 4,
  "nbformat_minor": 0,
  "metadata": {
    "colab": {
      "provenance": []
    },
    "kernelspec": {
      "name": "python3",
      "display_name": "Python 3"
    },
    "language_info": {
      "name": "python"
    }
  },
  "cells": [
    {
      "cell_type": "markdown",
      "source": [
        "# **Extract and Process Form Data:**\n",
        "The process of extracting and processing form data is crucial for matching students with their preferred startups. The proposed approach involves utilizing a form to collect the company preferences of students. However, to effectively use this information, it must be processed and converted into a format that can be interpreted by our matching algorithm. The code snippet presented below demonstrates how a sample of form output (newform.csv) is transformed into a map.\n",
        "\n",
        "**Expected output:**\n",
        "\n",
        "```\n",
        "{\n",
        "   \"Mazhar\":[\n",
        "      \"MarsCharge\",\n",
        "      \"JelikaLite\",\n",
        "      \"iQure Pharma\",\n",
        "      \"Lumos\",\n",
        "      \"ecolytiq\",\n",
        "      \"Datanchor\",\n",
        "      \"Droice Labs\",\n",
        "      \"Chimera Therapuetics\"\n",
        "   ],\n",
        "   \"Farhan\":[\n",
        "      \"Seek AI\",\n",
        "      \"Sachi Bioworks\",\n",
        "      \"SageMedic\",\n",
        "      \"ROCSOLE\",\n",
        "      \"Datanchor\",\n",
        "      \"Cortina Health\",\n",
        "      \"Droice Labs\",\n",
        "      \"ChargeWheel\"\n",
        "   ]\n",
        "}\n",
        "```\n",
        "\n",
        "\n"
      ],
      "metadata": {
        "id": "ufGlpLepvtcg"
      }
    },
    {
      "cell_type": "code",
      "execution_count": null,
      "metadata": {
        "id": "vdD8V97tecIk"
      },
      "outputs": [],
      "source": [
        "import csv\n",
        "from tabulate import tabulate"
      ]
    },
    {
      "cell_type": "markdown",
      "source": [
        "# **Reading CSV file**\n",
        "This code reads data from a CSV file and returns it as an array. The CSV file path is specified by the variable file_path. The returned array is assigned to the variable data."
      ],
      "metadata": {
        "id": "874EPkwwx_ug"
      }
    },
    {
      "cell_type": "code",
      "source": [
        "# Example usage\n",
        "file_path = 'newform.csv'\n",
        "\n",
        "def read_csv(file_path):\n",
        "    data_array = []\n",
        "    with open(file_path, 'r') as csv_file:\n",
        "        csv_reader = csv.reader(csv_file)\n",
        "        for row in csv_reader:\n",
        "            data_array.append(row)\n",
        "    return data_array\n",
        "\n",
        "\n",
        "data = read_csv(file_path)"
      ],
      "metadata": {
        "id": "jp9nO_Z0tGuy"
      },
      "execution_count": null,
      "outputs": []
    },
    {
      "cell_type": "markdown",
      "source": [
        "# **Clean the data**\n",
        "Here we remove the coloumns and rows that we do not require."
      ],
      "metadata": {
        "id": "nFZJUWsCzfkN"
      }
    },
    {
      "cell_type": "code",
      "source": [
        "# remove unnecessary rows (first and third row)\n",
        "del data[2]\n",
        "del data[0]\n",
        "\n",
        "# remove the first 17 columns from each row\n",
        "data = [row[17:] for row in data]"
      ],
      "metadata": {
        "id": "0N_Xz_1luAIk"
      },
      "execution_count": null,
      "outputs": []
    },
    {
      "cell_type": "markdown",
      "source": [
        "# **Creating Preference Dictionary:**\n"
      ],
      "metadata": {
        "id": "4DX3cUfG1AWj"
      }
    },
    {
      "cell_type": "markdown",
      "source": [
        "* The first line creates a list of student names.\n",
        "* The extract_header function takes a string argument and returns the second element (stripped of whitespace) after splitting the string on the hyphen. Eg: Click to write the question text - Life Sciences is taken as input and Life Sciences is returned.\n",
        "* The create_preference_list function creates a dictionary that has the rank of preference as the key and the company names as the value."
      ],
      "metadata": {
        "id": "q21nbYHW40oT"
      }
    },
    {
      "cell_type": "code",
      "source": [
        "# create a list of student names from the first column of the data_array\n",
        "student_names = [row[0] for row in data[1:]]\n",
        "\n",
        "def extract_header(string):\n",
        "    # Split the string on the hyphen and get the second element\n",
        "    extracted_header = string.split('-')[1].strip()\n",
        "\n",
        "    # Return the extracted text\n",
        "    return extracted_header\n",
        "\n",
        "def create_preference_list(data_array, start_col, end_col):\n",
        "    preference_list = []\n",
        "\n",
        "    for i in range(1, len(data_array)):  # skip header row\n",
        "        pref_dict = dict()\n",
        "\n",
        "        for j in range(start_col, end_col):\n",
        "            if data_array[i][j]:\n",
        "                pref_dict[data_array[i][j]] = extract_header(data_array[0][j])\n",
        "\n",
        "        preference_list.append(pref_dict)\n",
        "\n",
        "    return preference_list\n",
        "\n",
        "track_pref_col_start = 2\n",
        "track_pref_col_end = 5\n",
        "student_track_pref_list = create_preference_list(data, track_pref_col_start, track_pref_col_end)\n",
        "\n",
        "deep_tech_pref_col_start = 6\n",
        "deep_tech_pref_col_end = 27\n",
        "student_deep_tech_pref_list = create_preference_list(data, deep_tech_pref_col_start, deep_tech_pref_col_end)\n",
        "\n",
        "digital_tech_pref_col_start = 28\n",
        "digital_tech_pref_col_end = 49\n",
        "student_digital_tech_pref_list = create_preference_list(data, digital_tech_pref_col_start, digital_tech_pref_col_end)\n",
        "\n",
        "life_sciences_pref_col_start = 50\n",
        "life_sciences_pref_col_end = 66\n",
        "student_life_sciences_pref_list = create_preference_list(data, life_sciences_pref_col_start, life_sciences_pref_col_end)"
      ],
      "metadata": {
        "id": "3aawX7bb06j6"
      },
      "execution_count": null,
      "outputs": []
    },
    {
      "cell_type": "markdown",
      "source": [
        "# **Appending Preferences:**\n",
        "\n",
        "We create a nested dictionary called result, where each key is a student name and each value is a list of their preferred tracks (which is derived from their corresponding preferences for each track).\n",
        "\n",
        "The outermost loop iterates over each student in student_names. For each student, the second outermost for loop iterates over their preferred tracks (retrieved from student_track_pref_list[i]). For each track, the code checks if it is 'Digital Tech', 'Deep Tech', or 'Life Sciences'. Depending on the track, it appends the corresponding preference list in the inner most for loop but in increasing order of preference ( since we had used the index of preference as the key we can simply loop through and fetch the values in the track preferences lists' to get the sorted preference list.\n",
        "\n",
        "Once all of the student preferences have been collected in pref_list, the code updates the result dictionary with a key-value pair where the key is the student name and the value is their pref_list."
      ],
      "metadata": {
        "id": "_LegtfDN5-Ip"
      }
    },
    {
      "cell_type": "code",
      "source": [
        "result = {}\n",
        "\n",
        "for i, student in enumerate(student_names):\n",
        "    pref_list = []\n",
        "\n",
        "    for j in range(len(student_track_pref_list[i])):\n",
        "\n",
        "        if student_track_pref_list[i].get(str(j + 1)) == 'Digital Tech':\n",
        "            for k in range(len(student_digital_tech_pref_list[i])):\n",
        "                pref_list.append(student_digital_tech_pref_list[i].get(str(k + 1)))\n",
        "\n",
        "        if student_track_pref_list[i].get(str(j + 1)) == 'Deep Tech':\n",
        "            for k in range(len(student_deep_tech_pref_list[i])):\n",
        "                pref_list.append(student_deep_tech_pref_list[i].get(str(k + 1)))\n",
        "\n",
        "        if student_track_pref_list[i].get(str(j + 1)) == 'Life Sciences':\n",
        "            for k in range(len(student_life_sciences_pref_list[i])):\n",
        "                pref_list.append(student_life_sciences_pref_list[i].get(str(k + 1)))\n",
        "\n",
        "    result.update({student: pref_list})\n",
        "\n",
        "print(result)\n",
        "\n",
        "# print the updated 2D array as a table\n",
        "print(tabulate(data, headers=\"firstrow\", tablefmt=\"grid\"))"
      ],
      "metadata": {
        "colab": {
          "base_uri": "https://localhost:8080/"
        },
        "id": "aTtoSNUz5-pZ",
        "outputId": "b93720b4-9b16-4258-e0d9-b1c3ebae1690"
      },
      "execution_count": null,
      "outputs": [
        {
          "output_type": "stream",
          "name": "stdout",
          "text": [
            "{'Mazhar': ['MarsCharge', 'JelikaLite', 'iQure Pharma', 'Lumos', 'ecolytiq', 'Datanchor', 'Droice Labs', 'Chimera Therapuetics'], 'Farhan': ['Seek AI', 'Sachi Bioworks', 'SageMedic', 'ROCSOLE', 'Datanchor', 'Cortina Health', 'Droice Labs', 'ChargeWheel']}\n",
            "+--------+--------------------------------+------------------------------------------------+---------------------------------------------------+----------------------------------------------------+-----------------------------------------------------+----------------------------------------------+-------------------------------------------------------+------------------------------------------+-------------------------------------------------+------------------------------------------------+--------------------------------------------+----------------------------------------------+-------------------------------------------+------------------------------------------------------+-------------------------------------------+------------------------------------------------------+-------------------------------------------+-----------------------------------------------------------+-----------------------------------------------------+-------------------------------------------+---------------------------------------------+------------------------------------------+----------------------------------------------------+----------------------------------------------------+-------------------------------------------------+----------------------------------------------------+------------------------------------------+---------------------------------------------------+--------------------------------------------------+------------------------------------------------+-------------------------------------------------+-------------------------------------------------+-------------------------------------------+------------------------------------------------+---------------------------------------------------------+----------------------------------------------+----------------------------------------------------------+---------------------------------------------+-------------------------------------------------+------------------------------------------------------------+---------------------------------------------------------+-----------------------------------------------+-------------------------------------------------+----------------------------------------------+----------------------------------------------+--------------------------------------------+---------------------------------------------------------+----------------------------------------------+------------------------------------------+----------------------------------------------+-----------------------------------------------------+------------------------------------------------+----------------------------------------------+------------------------------------------------------------+----------------------------------------------------+----------------------------------------------+-----------------------------------------------------+---------------------------------------------------+-----------------------------------------------+-----------------------------------------------------+---------------------------------------------------+--------------------------------------------------------------------+-----------------------------------------------+-----------------------------------------------+------------------------------------------------+\n",
            "| Name   | Select your preferred Tracks   |   Click to write the question text - Deep Tech | Click to write the question text - Digital Tech   | Click to write the question text - Life Sciences   | Select your Deep Tech Startups                      | Rank your Deep Tech Startups - ChargeWheel   | Rank your Deep Tech Startups - Chimera Therapuetics   | Rank your Deep Tech Startups - Conatix   | Rank your Deep Tech Startups - Cortina Health   | Rank your Deep Tech Startups - Culina Health   |   Rank your Deep Tech Startups - Datanchor |   Rank your Deep Tech Startups - Droice Labs | Rank your Deep Tech Startups - ecolytiq   | Rank your Deep Tech Startups - Encora Therapeutics   | Rank your Deep Tech Startups - Evercity   | Rank your Deep Tech Startups - Exavir Therapeutics   | Rank your Deep Tech Startups - EydisBio   | Rank your Deep Tech Startups - Flying Ship Technologies   | Rank your Deep Tech Startups - Genomic Expression   | Rank your Deep Tech Startups - GenoTwin   | Rank your Deep Tech Startups - GridMatrix   | Rank your Deep Tech Startups - H Quest   | Rank your Deep Tech Startups - Haystack Oncology   | Rank your Deep Tech Startups - HDAX Therapeutics   | Rank your Deep Tech Startups - Health Cost IQ   | Rank your Deep Tech Startups - HPC-AI Technology   | Select your Digital Tech Startups        | Rank your Digital Tech Startups - IndyGeneUS AI   | Rank your Digital Tech Startups - iQure Pharma   | Rank your Digital Tech Startups - JelikaLite   | Rank your Digital Tech Startups - Level 42 AI   | Rank your Digital Tech Startups - Lumirithmic   | Rank your Digital Tech Startups - Lumos   | Rank your Digital Tech Startups - MarsCharge   | Rank your Digital Tech Startups - Maxwell Biosciences   | Rank your Digital Tech Startups - MindRank   | Rank your Digital Tech Startups - Nano PharmaSolutions   | Rank your Digital Tech Startups - NTherma   | Rank your Digital Tech Startups - OPTT Health   | Rank your Digital Tech Startups - Pandorum International   | Rank your Digital Tech Startups - Pannex Therapeutics   | Rank your Digital Tech Startups - Phinomics   | Rank your Digital Tech Startups - PlantSwitch   | Rank your Digital Tech Startups - Portcast   | Rank your Digital Tech Startups - Protabit   | Rank your Digital Tech Startups - Protai   | Rank your Digital Tech Startups - QurCan Therapeutics   | Rank your Digital Tech Startups - RevivBio   | Select your Life Sciences Startups       | Rank your Life Sciences Startups - ROCSOLE   | Rank your Life Sciences Startups - Sachi Bioworks   | Rank your Life Sciences Startups - SageMedic   | Rank your Life Sciences Startups - Seek AI   | Rank your Life Sciences Startups - siRNAgen Therapeutics   | Rank your Life Sciences Startups - SKYHOOK SOLAR   | Rank your Life Sciences Startups - Steg.AI   | Rank your Life Sciences Startups - Strong Network   | Rank your Life Sciences Startups - Terecircuits   | Rank your Life Sciences Startups - Troverlo   | Rank your Life Sciences Startups - Truffle Health   | Rank your Life Sciences Startups - Turion Space   | Rank your Life Sciences Startups - Woven Orthopedic Technologies   | Rank your Life Sciences Startups - XGenomes   | Rank your Life Sciences Startups - Xinterra   | Rank your Life Sciences Startups - Zoundream   |\n",
            "+========+================================+================================================+===================================================+====================================================+=====================================================+==============================================+=======================================================+==========================================+=================================================+================================================+============================================+==============================================+===========================================+======================================================+===========================================+======================================================+===========================================+===========================================================+=====================================================+===========================================+=============================================+==========================================+====================================================+====================================================+=================================================+====================================================+==========================================+===================================================+==================================================+================================================+=================================================+=================================================+===========================================+================================================+=========================================================+==============================================+==========================================================+=============================================+=================================================+============================================================+=========================================================+===============================================+=================================================+==============================================+==============================================+============================================+=========================================================+==============================================+==========================================+==============================================+=====================================================+================================================+==============================================+============================================================+====================================================+==============================================+=====================================================+===================================================+===============================================+=====================================================+===================================================+====================================================================+===============================================+===============================================+================================================+\n",
            "| Mazhar | Deep Tech,Digital Tech         |                                              2 | 1                                                 |                                                    | Chimera Therapuetics,Datanchor,Droice Labs,ecolytiq |                                              | 4                                                     |                                          |                                                 |                                                |                                          2 |                                            3 | 1                                         |                                                      |                                           |                                                      |                                           |                                                           |                                                     |                                           |                                             |                                          |                                                    |                                                    |                                                 |                                                    | iQure Pharma,JelikaLite,Lumos,MarsCharge |                                                   | 3                                                | 2                                              |                                                 |                                                 | 4                                         | 1                                              |                                                         |                                              |                                                          |                                             |                                                 |                                                            |                                                         |                                               |                                                 |                                              |                                              |                                            |                                                         |                                              |                                          |                                              |                                                     |                                                |                                              |                                                            |                                                    |                                              |                                                     |                                                   |                                               |                                                     |                                                   |                                                                    |                                               |                                               |                                                |\n",
            "+--------+--------------------------------+------------------------------------------------+---------------------------------------------------+----------------------------------------------------+-----------------------------------------------------+----------------------------------------------+-------------------------------------------------------+------------------------------------------+-------------------------------------------------+------------------------------------------------+--------------------------------------------+----------------------------------------------+-------------------------------------------+------------------------------------------------------+-------------------------------------------+------------------------------------------------------+-------------------------------------------+-----------------------------------------------------------+-----------------------------------------------------+-------------------------------------------+---------------------------------------------+------------------------------------------+----------------------------------------------------+----------------------------------------------------+-------------------------------------------------+----------------------------------------------------+------------------------------------------+---------------------------------------------------+--------------------------------------------------+------------------------------------------------+-------------------------------------------------+-------------------------------------------------+-------------------------------------------+------------------------------------------------+---------------------------------------------------------+----------------------------------------------+----------------------------------------------------------+---------------------------------------------+-------------------------------------------------+------------------------------------------------------------+---------------------------------------------------------+-----------------------------------------------+-------------------------------------------------+----------------------------------------------+----------------------------------------------+--------------------------------------------+---------------------------------------------------------+----------------------------------------------+------------------------------------------+----------------------------------------------+-----------------------------------------------------+------------------------------------------------+----------------------------------------------+------------------------------------------------------------+----------------------------------------------------+----------------------------------------------+-----------------------------------------------------+---------------------------------------------------+-----------------------------------------------+-----------------------------------------------------+---------------------------------------------------+--------------------------------------------------------------------+-----------------------------------------------+-----------------------------------------------+------------------------------------------------+\n",
            "| Farhan | Deep Tech,Life Sciences        |                                              2 |                                                   | 1                                                  | ChargeWheel,Cortina Health,Datanchor,Droice Labs    | 4                                            |                                                       |                                          | 2                                               |                                                |                                          1 |                                            3 |                                           |                                                      |                                           |                                                      |                                           |                                                           |                                                     |                                           |                                             |                                          |                                                    |                                                    |                                                 |                                                    |                                          |                                                   |                                                  |                                                |                                                 |                                                 |                                           |                                                |                                                         |                                              |                                                          |                                             |                                                 |                                                            |                                                         |                                               |                                                 |                                              |                                              |                                            |                                                         |                                              | ROCSOLE,Sachi Bioworks,SageMedic,Seek AI | 4                                            | 2                                                   | 3                                              | 1                                            |                                                            |                                                    |                                              |                                                     |                                                   |                                               |                                                     |                                                   |                                                                    |                                               |                                               |                                                |\n",
            "+--------+--------------------------------+------------------------------------------------+---------------------------------------------------+----------------------------------------------------+-----------------------------------------------------+----------------------------------------------+-------------------------------------------------------+------------------------------------------+-------------------------------------------------+------------------------------------------------+--------------------------------------------+----------------------------------------------+-------------------------------------------+------------------------------------------------------+-------------------------------------------+------------------------------------------------------+-------------------------------------------+-----------------------------------------------------------+-----------------------------------------------------+-------------------------------------------+---------------------------------------------+------------------------------------------+----------------------------------------------------+----------------------------------------------------+-------------------------------------------------+----------------------------------------------------+------------------------------------------+---------------------------------------------------+--------------------------------------------------+------------------------------------------------+-------------------------------------------------+-------------------------------------------------+-------------------------------------------+------------------------------------------------+---------------------------------------------------------+----------------------------------------------+----------------------------------------------------------+---------------------------------------------+-------------------------------------------------+------------------------------------------------------------+---------------------------------------------------------+-----------------------------------------------+-------------------------------------------------+----------------------------------------------+----------------------------------------------+--------------------------------------------+---------------------------------------------------------+----------------------------------------------+------------------------------------------+----------------------------------------------+-----------------------------------------------------+------------------------------------------------+----------------------------------------------+------------------------------------------------------------+----------------------------------------------------+----------------------------------------------+-----------------------------------------------------+---------------------------------------------------+-----------------------------------------------+-----------------------------------------------------+---------------------------------------------------+--------------------------------------------------------------------+-----------------------------------------------+-----------------------------------------------+------------------------------------------------+\n"
          ]
        }
      ]
    },
    {
      "cell_type": "code",
      "source": [],
      "metadata": {
        "id": "w2fIjoD30UYM"
      },
      "execution_count": null,
      "outputs": []
    }
  ]
}